{
 "cells": [
  {
   "cell_type": "code",
   "execution_count": 1,
   "id": "c19455d0",
   "metadata": {},
   "outputs": [
    {
     "name": "stdout",
     "output_type": "stream",
     "text": [
      "{'A': 'table', 'B': 'C', 'C': 'table'}\n"
     ]
    }
   ],
   "source": [
    "initial_state = {'A': 'table', 'B': 'table', 'C': 'A'}\n",
    "goal_state = {'A': 'table', 'B': 'C', 'C': 'table'}\n",
    "def goal_test(state, goal):\n",
    "    return state == goal\n",
    "\n",
    "\n",
    "def succ(state):\n",
    "    possible_states = []\n",
    "    for b1 in state:\n",
    "        for b2 in state:\n",
    "            if b1 != b2:\n",
    "                new_state = state.copy()\n",
    "                if new_state[b1] != 'table':\n",
    "                    new_state[b1] = 'table'\n",
    "                    new_state[b2] = b1\n",
    "                    possible_states.append(new_state)\n",
    "    return possible_states\n",
    "\n",
    "\n",
    "def heuristic(state, goal):\n",
    "    cost = 0\n",
    "    for block in state:\n",
    "        if state[block] != goal[block]:\n",
    "            cost += 1\n",
    "    return cost\n",
    "\n",
    "\n",
    "def hill_climbing(initial_state, goal_state):\n",
    "    current_state = initial_state.copy()\n",
    "    while not goal_test(current_state, goal_state):\n",
    "        succ_states = succ(current_state)\n",
    "        succ_costs = []\n",
    "        for successor_state in succ_states:\n",
    "            succ_costs.append(heuristic(successor_state, goal_state))\n",
    "        if not succ_costs:\n",
    "            break\n",
    "        best_successor_cost = min(succ_costs)\n",
    "        best_successor_index = succ_costs.index(best_successor_cost)\n",
    "        best_successor_state = succ_states[best_successor_index]\n",
    "        if heuristic(best_successor_state, goal_state) >= heuristic(current_state, goal_state):\n",
    "            break\n",
    "        current_state = best_successor_state\n",
    "    return current_state\n",
    "\n",
    "\n",
    "final_state = hill_climbing(initial_state, goal_state)\n",
    "print(final_state)"
   ]
  },
  {
   "cell_type": "code",
   "execution_count": null,
   "id": "e917eda3",
   "metadata": {},
   "outputs": [],
   "source": []
  }
 ],
 "metadata": {
  "kernelspec": {
   "display_name": "Python 3 (ipykernel)",
   "language": "python",
   "name": "python3"
  },
  "language_info": {
   "codemirror_mode": {
    "name": "ipython",
    "version": 3
   },
   "file_extension": ".py",
   "mimetype": "text/x-python",
   "name": "python",
   "nbconvert_exporter": "python",
   "pygments_lexer": "ipython3",
   "version": "3.9.13"
  }
 },
 "nbformat": 4,
 "nbformat_minor": 5
}

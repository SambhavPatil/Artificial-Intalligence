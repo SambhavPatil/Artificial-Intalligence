{
 "cells": [
  {
   "cell_type": "code",
   "execution_count": 1,
   "id": "e9b0c979",
   "metadata": {},
   "outputs": [
    {
     "name": "stdout",
     "output_type": "stream",
     "text": [
      "(['A', 'C', 'D', 'E', 'G'], 17)\n"
     ]
    }
   ],
   "source": [
    "# A* algorithm\n",
    "G = {\n",
    "    'A': [['B',4],['C',3]],\n",
    "    'B':[['E',12],['F',5]],\n",
    "    'C':[['D',7],['E',10]],\n",
    "    'D':[['E',2]],\n",
    "    'E':[['G',5]],\n",
    "    'C':[['D',7],['E',10]],\n",
    "    'F':[['G',16]] }\n",
    "\n",
    "H = {\n",
    "    'A':14,\n",
    "    'B':12,\n",
    "    'C':11,\n",
    "    'D':6,\n",
    "    'E':4,\n",
    "    'F':11,\n",
    "    'G':0, }\n",
    "\n",
    "def aStar(graph,heuristic,start_node,end_node):\n",
    "    ol=[]\n",
    "    cl=[]\n",
    "    cl.append(start_node)\n",
    "    shr_dist=0\n",
    "    while(cl[-1]!=end_node):\n",
    "        fval_fin=10e9\n",
    "        curr=cl[-1]\n",
    "        for i in graph[curr]: # i works like array\n",
    "            fval=i[1]+heuristic[i[0]]\n",
    "            ol.append([i[0],i[1],fval])\n",
    "            #print(ol)\n",
    "            fval_fin=min(fval_fin,fval)\n",
    "        for j in ol:\n",
    "            if (fval_fin==j[2]):\n",
    "                cl.append(j[0])\n",
    "                shr_dist+=j[1]\n",
    "                #print(cl)\n",
    "                break\n",
    "        ol=[]\n",
    "    return (cl,shr_dist)\n",
    "\n",
    "print(aStar(G,H,'A','G'))"
   ]
  },
  {
   "cell_type": "code",
   "execution_count": 2,
   "id": "aa441fad",
   "metadata": {},
   "outputs": [
    {
     "name": "stdout",
     "output_type": "stream",
     "text": [
      "Path from 'A' to 'F': A -> C -> F\n"
     ]
    }
   ],
   "source": [
    "#Best First Search Algorithm\n",
    "from queue import PriorityQueue\n",
    "\n",
    "def best_first_search(start, goal, graph, heuristic):\n",
    "    visited = set()\n",
    "    queue = PriorityQueue()\n",
    "    queue.put((0, start, None))  # add None as parent of start node\n",
    "    \n",
    "    parents = {}\n",
    "    \n",
    "    while not queue.empty():\n",
    "        cost, node, parent = queue.get()\n",
    "        parents[node] = parent\n",
    "        \n",
    "        if node == goal:\n",
    "            path = []\n",
    "            current = node\n",
    "            while current != start:\n",
    "                path.append(current)\n",
    "                current = parents[current]\n",
    "            path.append(start)\n",
    "            path.reverse()\n",
    "            return path\n",
    "        \n",
    "        visited.add(node)\n",
    "        for neighbor in graph[node]:\n",
    "            if neighbor not in visited:\n",
    "                priority = heuristic[neighbor]\n",
    "                queue.put((priority, neighbor, node))  # add current node as parent of neighbor\n",
    "    \n",
    "    return None\n",
    "# Sample graph\n",
    "graph = {\n",
    "    'A': ['B', 'C'],\n",
    "    'B': ['D', 'E'],\n",
    "    'C': ['F'],\n",
    "    'D': [],\n",
    "    'E': ['F'],\n",
    "    'F': []\n",
    "}\n",
    "\n",
    "# Sample heuristic function\n",
    "heuristic = {\n",
    "    'A': 10,\n",
    "    'B': 8,\n",
    "    'C': 7,\n",
    "    'D': 6,\n",
    "    'E': 4,\n",
    "    'F': 0\n",
    "}\n",
    "\n",
    "# Call the function\n",
    "start_node = 'A'\n",
    "goal_node = 'F'\n",
    "path = best_first_search(start_node, goal_node, graph, heuristic)\n",
    "\n",
    "# Print the path\n",
    "if path:\n",
    "    print(f\"Path from '{start_node}' to '{goal_node}': {' -> '.join(path)}\")\n",
    "else:\n",
    "    print(f\"Goal node '{goal_node}' not found!\")"
   ]
  },
  {
   "cell_type": "code",
   "execution_count": null,
   "id": "0c476fc0",
   "metadata": {},
   "outputs": [],
   "source": []
  }
 ],
 "metadata": {
  "kernelspec": {
   "display_name": "Python 3 (ipykernel)",
   "language": "python",
   "name": "python3"
  },
  "language_info": {
   "codemirror_mode": {
    "name": "ipython",
    "version": 3
   },
   "file_extension": ".py",
   "mimetype": "text/x-python",
   "name": "python",
   "nbconvert_exporter": "python",
   "pygments_lexer": "ipython3",
   "version": "3.9.13"
  }
 },
 "nbformat": 4,
 "nbformat_minor": 5
}

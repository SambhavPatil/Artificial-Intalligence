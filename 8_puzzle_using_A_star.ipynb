{
 "cells": [
  {
   "cell_type": "code",
   "execution_count": 3,
   "metadata": {
    "colab": {
     "base_uri": "https://localhost:8080/"
    },
    "id": "Zu7hXhxNW82d",
    "outputId": "19077dcc-1765-410b-b78b-42c56347e685"
   },
   "outputs": [
    {
     "name": "stdout",
     "output_type": "stream",
     "text": [
      "------------------- Level  1  -------------------\n",
      "1 2 3 \n",
      "0 4 6 \n",
      "7 5 8 \n",
      "------------------- Level  2  -------------------\n",
      "1 2 3 \n",
      "4 0 6 \n",
      "7 5 8 \n",
      "------------------- Level  3  -------------------\n",
      "1 2 3 \n",
      "4 5 6 \n",
      "7 0 8 \n",
      "------------------- Level  4  -------------------\n",
      "1 2 3 \n",
      "4 5 6 \n",
      "7 8 0 \n"
     ]
    }
   ],
   "source": [
    "#8 puzzle using A*\n",
    "state = [1,2,3,0,4,6,7,5,8]\n",
    "\n",
    "goal = [1,2,3,4,5,6,7,8,0]\n",
    "\n",
    "closelist =[]\n",
    "\n",
    "def printMatrix(st):\n",
    "    for i in range(9):\n",
    "        if i>0 and i %3 ==0 :\n",
    "            print(\"\") #printing new line after 3 charcaters\n",
    "        print(st[i],end=\" \") #printing space after each chharacter\n",
    "    print(\"\")\n",
    "\n",
    "\n",
    "\n",
    "def hValue(st,goal):\n",
    "\n",
    "    count = 0 # variable to store number of misplaced tiles\n",
    "    for i in range(9):\n",
    "        #checking if tiles are same or not. if not then increment count\n",
    "        if st[i]!=0 and st[i]!=goal[i]: \n",
    "            count+=1\n",
    "    \n",
    "    return count\n",
    "\n",
    "\n",
    "\n",
    "def shuffle(st,move,pos):\n",
    "    newH = 9999\n",
    "    newSt = st.copy()\n",
    "\n",
    "    for i in range(len(move)):\n",
    "        tempState = st.copy()\n",
    "\n",
    "        tempNum = tempState[pos]\n",
    "        tempState[pos] = tempState[move[i]]\n",
    "        tempState[move[i]] = tempNum\n",
    "\n",
    "        if tempState not in closelist:\n",
    "            tempH = hValue(tempState,goal)\n",
    "            if tempH < newH :\n",
    "                newH = tempH\n",
    "                newSt = tempState.copy()\n",
    "    return newSt,newH\n",
    "\n",
    "\n",
    "level = 1\n",
    "print(\"------------------- Level \",level,\" -------------------\")\n",
    "printMatrix(state)\n",
    "\n",
    "h = hValue(state,goal)\n",
    "\n",
    "while h > 0:\n",
    "    pos = state.index(0)\n",
    "\n",
    "    level += 1\n",
    "\n",
    "    if pos == 0:\n",
    "        moves = [1,3]\n",
    "    elif pos==1:\n",
    "        moves =[0,2,4]\n",
    "    elif pos==2:\n",
    "        moves =[1,5]\n",
    "    elif pos==3:\n",
    "        moves =[0,4,6]\n",
    "    elif pos==4:\n",
    "        moves =[1,3,5,7]\n",
    "    elif pos==5:\n",
    "        moves =[2,4,8]\n",
    "    elif pos==6:\n",
    "        moves =[3,7]\n",
    "    elif pos==7:\n",
    "        moves =[6,4,8]\n",
    "    elif pos==8:\n",
    "        moves =[5,7]\n",
    "\n",
    "    state , h =  shuffle(state,moves,pos)\n",
    "\n",
    "    print(\"------------------- Level \",level,\" -------------------\")\n",
    "    printMatrix(state)"
   ]
  }
 ],
 "metadata": {
  "colab": {
   "provenance": []
  },
  "kernelspec": {
   "display_name": "Python 3 (ipykernel)",
   "language": "python",
   "name": "python3"
  },
  "language_info": {
   "codemirror_mode": {
    "name": "ipython",
    "version": 3
   },
   "file_extension": ".py",
   "mimetype": "text/x-python",
   "name": "python",
   "nbconvert_exporter": "python",
   "pygments_lexer": "ipython3",
   "version": "3.9.13"
  }
 },
 "nbformat": 4,
 "nbformat_minor": 1
}

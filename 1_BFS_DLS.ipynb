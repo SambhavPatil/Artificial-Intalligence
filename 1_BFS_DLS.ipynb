{
 "cells": [
  {
   "cell_type": "markdown",
   "id": "9f0c1018",
   "metadata": {},
   "source": [
    "# BFS"
   ]
  },
  {
   "cell_type": "code",
   "execution_count": 15,
   "id": "cdf9c525",
   "metadata": {},
   "outputs": [],
   "source": [
    "G = {\n",
    "    'A':['B','C'],\n",
    "    'B':['D','E'],\n",
    "    'C':['F'],\n",
    "    'D':[],\n",
    "    'E':[],\n",
    "    'F':[]\n",
    "}"
   ]
  },
  {
   "cell_type": "code",
   "execution_count": 16,
   "id": "233fbddf",
   "metadata": {},
   "outputs": [],
   "source": [
    "visited = []\n",
    "queue = []"
   ]
  },
  {
   "cell_type": "code",
   "execution_count": 17,
   "id": "59258177",
   "metadata": {},
   "outputs": [],
   "source": [
    "def bfs(visited,graph,node):\n",
    "    visited.append(node)\n",
    "    queue.append(node)\n",
    "    while queue:\n",
    "        s = queue.pop(0)\n",
    "        print(s,'-',end=\"\")\n",
    "        for neighbour in graph[s]:\n",
    "            if neighbour not in visited:\n",
    "                visited.append(neighbour)\n",
    "                queue.append(neighbour)"
   ]
  },
  {
   "cell_type": "code",
   "execution_count": 18,
   "id": "f22ab539",
   "metadata": {},
   "outputs": [
    {
     "name": "stdout",
     "output_type": "stream",
     "text": [
      "A -B -C -D -E -F -"
     ]
    }
   ],
   "source": [
    "bfs(visited,G,'A')"
   ]
  },
  {
   "cell_type": "markdown",
   "id": "c5053d93",
   "metadata": {},
   "source": [
    "# DLS"
   ]
  },
  {
   "cell_type": "code",
   "execution_count": 19,
   "id": "56ec46b0",
   "metadata": {},
   "outputs": [],
   "source": [
    "g = {\n",
    "    'A':['B','C'],\n",
    "    'B':['D','E'],\n",
    "    'C':['F'],\n",
    "    'D':['G'],\n",
    "    'E':[],\n",
    "    'F':[],\n",
    "    'G':[]\n",
    "}"
   ]
  },
  {
   "cell_type": "code",
   "execution_count": 22,
   "id": "7100ad4b",
   "metadata": {},
   "outputs": [],
   "source": [
    "def dls(node,goal,graph,limit):\n",
    "    if node==goal:\n",
    "        return [node]\n",
    "    elif limit==0:\n",
    "        return None\n",
    "    else:\n",
    "        for child in graph[node]:\n",
    "            result =dls(child,goal,graph,limit-1)\n",
    "            if result != None:\n",
    "                return [node]+result"
   ]
  },
  {
   "cell_type": "code",
   "execution_count": 34,
   "id": "13f29aff",
   "metadata": {},
   "outputs": [],
   "source": [
    "dls('A','F',g,1)"
   ]
  },
  {
   "cell_type": "code",
   "execution_count": null,
   "id": "d336a354",
   "metadata": {},
   "outputs": [],
   "source": []
  }
 ],
 "metadata": {
  "kernelspec": {
   "display_name": "Python 3 (ipykernel)",
   "language": "python",
   "name": "python3"
  },
  "language_info": {
   "codemirror_mode": {
    "name": "ipython",
    "version": 3
   },
   "file_extension": ".py",
   "mimetype": "text/x-python",
   "name": "python",
   "nbconvert_exporter": "python",
   "pygments_lexer": "ipython3",
   "version": "3.9.13"
  }
 },
 "nbformat": 4,
 "nbformat_minor": 5
}

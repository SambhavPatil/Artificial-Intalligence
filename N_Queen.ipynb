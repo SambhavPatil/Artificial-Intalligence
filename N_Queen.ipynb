{
 "cells": [
  {
   "cell_type": "code",
   "execution_count": 1,
   "id": "b6642534",
   "metadata": {},
   "outputs": [
    {
     "name": "stdout",
     "output_type": "stream",
     "text": [
      "Enter no of Queens:5\n",
      "[1, 0, 0, 0, 0]\n",
      "[0, 0, 1, 0, 0]\n",
      "[0, 0, 0, 0, 1]\n",
      "[0, 1, 0, 0, 0]\n",
      "[0, 0, 0, 1, 0]\n"
     ]
    }
   ],
   "source": [
    "#N queen Problem\n",
    "n = int(input(\"Enter no of Queens:\"))\n",
    "a = [[0 for x in range(n)] for y in range(n)]\n",
    "b = {}\n",
    "\n",
    "# To check in column\n",
    "def isColumnSafe(r,c):\n",
    "    while(r>=0):\n",
    "        if (a[r][c]==1):\n",
    "            return 0\n",
    "        r=r-1\n",
    "    return 1\n",
    "# To check in left diagonal\n",
    "def isLeftDiagonalSafe(r,c):\n",
    "    while(r>=0 and c>=0):\n",
    "        if(a[r][c]==1):\n",
    "            return 0\n",
    "        r=r-1\n",
    "        c=c-1\n",
    "    return 1\n",
    "# To check in right diagonal\n",
    "def isRightDiagonalSafe(r,c):\n",
    "    while(r>=0 and c<n):\n",
    "        if(a[r][c]==1):\n",
    "            return 0\n",
    "        r=r-1\n",
    "        c=c+1\n",
    "    return 1\n",
    "# function to check given row and col position is safe or not.\n",
    "def isSafe(row,col):\n",
    "    if(isColumnSafe(row,col)== 0):\n",
    "        return 0\n",
    "    if(isLeftDiagonalSafe(row,col)==0):\n",
    "        return 0\n",
    "    if(isRightDiagonalSafe(row,col)==0):\n",
    "        return 0\n",
    "    return 1\n",
    "# to check row wise safe position for each queen(n).\n",
    "def checkBoard(r,c):\n",
    "    if(r>=n):\n",
    "        return\n",
    "    p=0\n",
    "    while(c<n):\n",
    "        p = isSafe(r,c)\n",
    "        if(p==1):\n",
    "            a[r][c] = 1\n",
    "            b.update({r:c})\n",
    "            break\n",
    "        c=c+1\n",
    "    if(p==1):\n",
    "        checkBoard(r+1,0)   # Calling recursion for next row\n",
    "    else:\n",
    "        a[r-1][b.get(r-1)]=0\n",
    "        checkBoard(r-1,int(b.get(r-1))+1)   # Here actual backtracking happens for previous row\n",
    "\n",
    "checkBoard(0,0)\n",
    "for i in a:\n",
    "    print(i)"
   ]
  },
  {
   "cell_type": "code",
   "execution_count": null,
   "id": "89efbe2a",
   "metadata": {},
   "outputs": [],
   "source": []
  }
 ],
 "metadata": {
  "kernelspec": {
   "display_name": "Python 3 (ipykernel)",
   "language": "python",
   "name": "python3"
  },
  "language_info": {
   "codemirror_mode": {
    "name": "ipython",
    "version": 3
   },
   "file_extension": ".py",
   "mimetype": "text/x-python",
   "name": "python",
   "nbconvert_exporter": "python",
   "pygments_lexer": "ipython3",
   "version": "3.9.13"
  }
 },
 "nbformat": 4,
 "nbformat_minor": 5
}

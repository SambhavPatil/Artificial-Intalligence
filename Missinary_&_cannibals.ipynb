{
 "cells": [
  {
   "cell_type": "code",
   "execution_count": 1,
   "id": "f6afb786",
   "metadata": {},
   "outputs": [
    {
     "name": "stdout",
     "output_type": "stream",
     "text": [
      "[(3, 3, 1), (2, 2, 0), (3, 2, 1), (3, 0, 0), (3, 1, 1), (1, 1, 0), (2, 2, 1), (0, 2, 0), (0, 3, 1), (0, 1, 0), (0, 2, 1), (0, 0, 0)]\n"
     ]
    }
   ],
   "source": [
    "\n",
    "#Missionaries and cannibals using A*\n",
    "import heapq\n",
    "\n",
    "def is_valid(state):\n",
    "    m, c, b = state\n",
    "    if m < 0 or c < 0 or m > 3 or c > 3:\n",
    "        return False\n",
    "    if (c > m) and m > 0: \n",
    "        return False\n",
    "    if (3-c > 3-m) and (3-m > 0): \n",
    "        return False\n",
    "    return True\n",
    "\n",
    "def successors(state):\n",
    "    m, c, b = state\n",
    "    moves = []\n",
    "    if b == 1: \n",
    "        if is_valid((m, c-2, 0)):\n",
    "            moves.append((m, c-2, 0))\n",
    "        if is_valid((m-2, c, 0)):\n",
    "            moves.append((m-2, c, 0))\n",
    "        if is_valid((m-1, c-1, 0)):\n",
    "            moves.append((m-1, c-1, 0))\n",
    "        if is_valid((m, c-1, 0)):\n",
    "            moves.append((m, c-1, 0))\n",
    "        if is_valid((m-1, c, 0)):\n",
    "            moves.append((m-1, c, 0))\n",
    "    else: # boat is on the right side\n",
    "        if is_valid((m, c+2, 1)):\n",
    "            moves.append((m, c+2, 1))\n",
    "        if is_valid((m+2, c, 1)):\n",
    "            moves.append((m+2, c, 1))\n",
    "        if is_valid((m+1, c+1, 1)):\n",
    "            moves.append((m+1, c+1, 1))\n",
    "        if is_valid((m, c+1, 1)):\n",
    "            moves.append((m, c+1, 1))\n",
    "        if is_valid((m+1, c, 1)):\n",
    "            moves.append((m+1, c, 1))\n",
    "    return moves\n",
    "\n",
    "def heuristic(state):\n",
    "    m, c, b = state\n",
    "    return (m+c-2) // 2\n",
    "\n",
    "def a_star(start_state):\n",
    "    heap = []\n",
    "    heapq.heappush(heap, (heuristic(start_state), 0, [start_state]))\n",
    "    visited = set()\n",
    "    while heap:\n",
    "        _, cost, path = heapq.heappop(heap)\n",
    "        current_state = path[-1]\n",
    "        if current_state in visited:\n",
    "            continue\n",
    "        if current_state == (0, 0, 0):\n",
    "            return path\n",
    "        visited.add(current_state)\n",
    "        for successor in successors(current_state):\n",
    "            if successor not in visited:\n",
    "                new_path = path + [successor]\n",
    "                new_cost = cost + 1\n",
    "                heapq.heappush(heap, (new_cost + heuristic(successor), new_cost, new_path))\n",
    "    return None\n",
    "\n",
    "start_state = (3, 3, 1)\n",
    "solution = a_star(start_state)\n",
    "if solution:\n",
    "    print(solution)\n",
    "else:\n",
    "    print(\"No solution found.\")\n"
   ]
  },
  {
   "cell_type": "code",
   "execution_count": null,
   "id": "3b73c10b",
   "metadata": {},
   "outputs": [],
   "source": []
  }
 ],
 "metadata": {
  "kernelspec": {
   "display_name": "Python 3 (ipykernel)",
   "language": "python",
   "name": "python3"
  },
  "language_info": {
   "codemirror_mode": {
    "name": "ipython",
    "version": 3
   },
   "file_extension": ".py",
   "mimetype": "text/x-python",
   "name": "python",
   "nbconvert_exporter": "python",
   "pygments_lexer": "ipython3",
   "version": "3.9.13"
  }
 },
 "nbformat": 4,
 "nbformat_minor": 5
}

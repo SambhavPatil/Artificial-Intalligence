{
 "cells": [
  {
   "cell_type": "code",
   "execution_count": 1,
   "id": "28853f8a",
   "metadata": {},
   "outputs": [
    {
     "name": "stdout",
     "output_type": "stream",
     "text": [
      "Predicted grade: 0.6\n",
      "Predicted letter grade: None\n"
     ]
    }
   ],
   "source": [
    "#Bayesian Networks\n",
    "\n",
    "class Node:\n",
    "    def __init__(self, name):\n",
    "        self.name = name\n",
    "        self.parents = []\n",
    "        self.probabilities = {}\n",
    "\n",
    "    def add_parent(self, parent_node):\n",
    "        self.parents.append(parent_node)\n",
    "\n",
    "    def add_probability(self, conditions, probability):\n",
    "        self.probabilities[conditions] = probability\n",
    "\n",
    "    def get_probability(self, conditions):\n",
    "        return self.probabilities.get(conditions)\n",
    "\n",
    "\n",
    "def predict_student_performance(difficulty, intelligence):\n",
    "    # Create nodes\n",
    "    grade = Node('grade')\n",
    "    letter = Node('letter')\n",
    "    difficulty_node = Node('difficulty')\n",
    "    intelligence_node = Node('intelligence')\n",
    "\n",
    "    # Set up parent-child relationships\n",
    "    grade.add_parent(difficulty_node)\n",
    "    grade.add_parent(intelligence_node)\n",
    "    letter.add_parent(grade)\n",
    "\n",
    "    # Define conditional probabilities\n",
    "    difficulty_node.add_probability(('Easy',), 0.2)\n",
    "    difficulty_node.add_probability(('Difficult',), 0.8)\n",
    "\n",
    "    intelligence_node.add_probability(('Low',), 0.3)\n",
    "    intelligence_node.add_probability(('High',), 0.7)\n",
    "\n",
    "    grade.add_probability(('Easy', 'Low'), 0.9)\n",
    "    grade.add_probability(('Easy', 'High'), 0.6)\n",
    "    grade.add_probability(('Difficult', 'Low'), 0.4)\n",
    "    grade.add_probability(('Difficult', 'High'), 0.1)\n",
    "\n",
    "    letter.add_probability(('A',), 0.3)\n",
    "    letter.add_probability(('B',), 0.4)\n",
    "    letter.add_probability(('C',), 0.2)\n",
    "    letter.add_probability(('D',), 0.1)\n",
    "\n",
    "    # Perform inference\n",
    "    grade_probability = grade.get_probability((difficulty, intelligence))\n",
    "    letter_probability = letter.get_probability((grade_probability,))\n",
    "\n",
    "    return grade_probability, letter_probability\n",
    "\n",
    "\n",
    "# Test the prediction\n",
    "grade_prob, letter_prob = predict_student_performance('Easy', 'High')\n",
    "print(f\"Predicted grade: {grade_prob}\")\n",
    "print(f\"Predicted letter grade: {letter_prob}\")"
   ]
  },
  {
   "cell_type": "code",
   "execution_count": null,
   "id": "fdf0413e",
   "metadata": {},
   "outputs": [],
   "source": []
  }
 ],
 "metadata": {
  "kernelspec": {
   "display_name": "Python 3 (ipykernel)",
   "language": "python",
   "name": "python3"
  },
  "language_info": {
   "codemirror_mode": {
    "name": "ipython",
    "version": 3
   },
   "file_extension": ".py",
   "mimetype": "text/x-python",
   "name": "python",
   "nbconvert_exporter": "python",
   "pygments_lexer": "ipython3",
   "version": "3.9.13"
  }
 },
 "nbformat": 4,
 "nbformat_minor": 5
}
